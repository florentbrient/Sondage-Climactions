{
 "cells": [
  {
   "cell_type": "code",
   "execution_count": 1,
   "metadata": {},
   "outputs": [],
   "source": [
    "import pandas as pd\n",
    "df = pd.read_csv('Reponse_FR.csv')"
   ]
  },
  {
   "cell_type": "code",
   "execution_count": 4,
   "metadata": {},
   "outputs": [
    {
     "data": {
      "text/plain": [
       "(79, 21)"
      ]
     },
     "execution_count": 4,
     "metadata": {},
     "output_type": "execute_result"
    }
   ],
   "source": [
    "df.shape"
   ]
  },
  {
   "cell_type": "code",
   "execution_count": 5,
   "metadata": {},
   "outputs": [
    {
     "name": "stdout",
     "output_type": "stream",
     "text": [
      "Nombre de réponses :  79\n"
     ]
    }
   ],
   "source": [
    "print('Nombre de réponses : ',df.shape[0])"
   ]
  },
  {
   "cell_type": "code",
   "execution_count": 6,
   "metadata": {},
   "outputs": [
    {
     "data": {
      "text/html": [
       "<div>\n",
       "<style scoped>\n",
       "    .dataframe tbody tr th:only-of-type {\n",
       "        vertical-align: middle;\n",
       "    }\n",
       "\n",
       "    .dataframe tbody tr th {\n",
       "        vertical-align: top;\n",
       "    }\n",
       "\n",
       "    .dataframe thead th {\n",
       "        text-align: right;\n",
       "    }\n",
       "</style>\n",
       "<table border=\"1\" class=\"dataframe\">\n",
       "  <thead>\n",
       "    <tr style=\"text-align: right;\">\n",
       "      <th></th>\n",
       "      <th>Horodateur</th>\n",
       "      <th>Quel est votre profession ?</th>\n",
       "      <th>Votre poste est-il permanent ?</th>\n",
       "      <th>Sur quel site travaillez-vous majoritairement ?</th>\n",
       "      <th>Etes-vous impliqué(e) dans le groupe LMD-Climactions ?</th>\n",
       "      <th>Le LMD doit-il définir une stratégie de réduction d'émissions ?</th>\n",
       "      <th>Comment devons-nous nous situer par rapport à l'objectif national de réduction d'émissions pour l'horizon 2030 (-50% en 2030 par rapport à notre bilan carbone de 2019) ?</th>\n",
       "      <th>Par quels moyens/modalités ? (choix multiples)</th>\n",
       "      <th>Si le LMD se fixe des plafonds d'émissions ou de coût carbone, doivent-ils être :</th>\n",
       "      <th>Avez-vous une remarque sur les moyens d'actions d'une stratégie de réduction des émissions?</th>\n",
       "      <th>...</th>\n",
       "      <th>Selon vous, est-ce qu'une éventuelle stratégie de réduction doit s'appliquer sur : [Missions (hors campagnes de terrain)]</th>\n",
       "      <th>Selon vous, est-ce qu'une éventuelle stratégie de réduction doit s'appliquer sur : [Campagnes de terrain]</th>\n",
       "      <th>Selon vous, est-ce qu'une éventuelle stratégie de réduction doit s'appliquer sur : [Calcul et stockage numérique]</th>\n",
       "      <th>Selon vous, est-ce qu'une éventuelle stratégie de réduction doit s'appliquer sur : [Achats]</th>\n",
       "      <th>Selon vous, est-ce qu'une éventuelle stratégie de réduction doit s'appliquer sur : [Bâtiments/chauffage/climatisation]</th>\n",
       "      <th>Selon vous, est-ce qu'une éventuelle stratégie de réduction doit s'appliquer sur : [Déplacements domicile/travail]</th>\n",
       "      <th>Seriez-vous intéressé par un calculateur qui vous permettrait d'estimer et de suivre sur l'année votre empreinte individuelle professionnelle dans ces différents domaines d’émissions ?</th>\n",
       "      <th>Pensez-vous que votre activité professionnelle puisse être d'aussi bonne qualité à moindre impact carbone ? (espace commentaire ci-dessous)</th>\n",
       "      <th>Avez-vous des remarques sur ce point spécifiquement ?</th>\n",
       "      <th>Avez-vous des commentaires/questions/suggestions de manière générale sur une stratégie de réduction d'émissions au LMD ?</th>\n",
       "    </tr>\n",
       "  </thead>\n",
       "  <tbody>\n",
       "    <tr>\n",
       "      <th>0</th>\n",
       "      <td>2021/03/25 3:46:39 PM UTC+2</td>\n",
       "      <td>Recherche et Enseignement (y compris doctorant...</td>\n",
       "      <td>Non</td>\n",
       "      <td>Ecole Polytechnique</td>\n",
       "      <td>Oui</td>\n",
       "      <td>Oui</td>\n",
       "      <td>Même objectif</td>\n",
       "      <td>Sensibilisation / bonnes pratiques / volontari...</td>\n",
       "      <td>collectifs (équipe, site ou laboratoire)</td>\n",
       "      <td>NaN</td>\n",
       "      <td>...</td>\n",
       "      <td>Ne pas toucher</td>\n",
       "      <td>Ne pas toucher</td>\n",
       "      <td>Ne pas toucher</td>\n",
       "      <td>Plutôt pas d'accord</td>\n",
       "      <td>Plutôt d'accord</td>\n",
       "      <td>Plutôt d'accord</td>\n",
       "      <td>Oui</td>\n",
       "      <td>Oui</td>\n",
       "      <td>NaN</td>\n",
       "      <td>NaN</td>\n",
       "    </tr>\n",
       "    <tr>\n",
       "      <th>1</th>\n",
       "      <td>2021/03/25 3:48:09 PM UTC+2</td>\n",
       "      <td>Support à la recherche (Ingénieur / Technicien...</td>\n",
       "      <td>Oui</td>\n",
       "      <td>Ecole Polytechnique</td>\n",
       "      <td>Non</td>\n",
       "      <td>Oui</td>\n",
       "      <td>Même objectif</td>\n",
       "      <td>En se fixant des plafonds d'émissions ou de co...</td>\n",
       "      <td>collectifs (équipe, site ou laboratoire)</td>\n",
       "      <td>NaN</td>\n",
       "      <td>...</td>\n",
       "      <td>Plutôt d'accord</td>\n",
       "      <td>Ne pas toucher</td>\n",
       "      <td>Plutôt d'accord</td>\n",
       "      <td>Plutôt d'accord</td>\n",
       "      <td>Priorité</td>\n",
       "      <td>Plutôt pas d'accord</td>\n",
       "      <td>Oui</td>\n",
       "      <td>Oui</td>\n",
       "      <td>NaN</td>\n",
       "      <td>NaN</td>\n",
       "    </tr>\n",
       "    <tr>\n",
       "      <th>2</th>\n",
       "      <td>2021/03/25 3:48:42 PM UTC+2</td>\n",
       "      <td>Support à la recherche (Ingénieur / Technicien...</td>\n",
       "      <td>Non</td>\n",
       "      <td>Ecole Polytechnique</td>\n",
       "      <td>Non</td>\n",
       "      <td>Oui</td>\n",
       "      <td>Plus ambitieux</td>\n",
       "      <td>Sensibilisation / bonnes pratiques / volontari...</td>\n",
       "      <td>collectifs (équipe, site ou laboratoire)</td>\n",
       "      <td>Organisation en distanciel pour toutes les con...</td>\n",
       "      <td>...</td>\n",
       "      <td>Priorité</td>\n",
       "      <td>Plutôt d'accord</td>\n",
       "      <td>Plutôt d'accord</td>\n",
       "      <td>Plutôt d'accord</td>\n",
       "      <td>Priorité</td>\n",
       "      <td>Priorité</td>\n",
       "      <td>Oui</td>\n",
       "      <td>Oui</td>\n",
       "      <td>NaN</td>\n",
       "      <td>NaN</td>\n",
       "    </tr>\n",
       "    <tr>\n",
       "      <th>3</th>\n",
       "      <td>2021/03/25 3:49:18 PM UTC+2</td>\n",
       "      <td>Recherche et Enseignement (y compris doctorant...</td>\n",
       "      <td>Oui</td>\n",
       "      <td>Ecole Polytechnique</td>\n",
       "      <td>Non</td>\n",
       "      <td>Oui</td>\n",
       "      <td>Même objectif</td>\n",
       "      <td>Sensibilisation / bonnes pratiques / volontariat</td>\n",
       "      <td>NaN</td>\n",
       "      <td>NaN</td>\n",
       "      <td>...</td>\n",
       "      <td>Plutôt d'accord</td>\n",
       "      <td>Plutôt pas d'accord</td>\n",
       "      <td>Plutôt d'accord</td>\n",
       "      <td>Plutôt d'accord</td>\n",
       "      <td>Priorité</td>\n",
       "      <td>Plutôt d'accord</td>\n",
       "      <td>Oui</td>\n",
       "      <td>Oui</td>\n",
       "      <td>NaN</td>\n",
       "      <td>NaN</td>\n",
       "    </tr>\n",
       "    <tr>\n",
       "      <th>4</th>\n",
       "      <td>2021/03/25 3:49:24 PM UTC+2</td>\n",
       "      <td>Recherche et Enseignement (y compris doctorant...</td>\n",
       "      <td>Non</td>\n",
       "      <td>Ecole Normale Supérieure (ENS)</td>\n",
       "      <td>Non</td>\n",
       "      <td>Oui</td>\n",
       "      <td>Plus ambitieux</td>\n",
       "      <td>Sensibilisation / bonnes pratiques / volontari...</td>\n",
       "      <td>collectifs (équipe, site ou laboratoire)</td>\n",
       "      <td>NaN</td>\n",
       "      <td>...</td>\n",
       "      <td>Priorité</td>\n",
       "      <td>Plutôt d'accord</td>\n",
       "      <td>Plutôt d'accord</td>\n",
       "      <td>Priorité</td>\n",
       "      <td>Priorité</td>\n",
       "      <td>Plutôt d'accord</td>\n",
       "      <td>Oui</td>\n",
       "      <td>Oui</td>\n",
       "      <td>NaN</td>\n",
       "      <td>NaN</td>\n",
       "    </tr>\n",
       "  </tbody>\n",
       "</table>\n",
       "<p>5 rows × 21 columns</p>\n",
       "</div>"
      ],
      "text/plain": [
       "                    Horodateur  \\\n",
       "0  2021/03/25 3:46:39 PM UTC+2   \n",
       "1  2021/03/25 3:48:09 PM UTC+2   \n",
       "2  2021/03/25 3:48:42 PM UTC+2   \n",
       "3  2021/03/25 3:49:18 PM UTC+2   \n",
       "4  2021/03/25 3:49:24 PM UTC+2   \n",
       "\n",
       "                         Quel est votre profession ?  \\\n",
       "0  Recherche et Enseignement (y compris doctorant...   \n",
       "1  Support à la recherche (Ingénieur / Technicien...   \n",
       "2  Support à la recherche (Ingénieur / Technicien...   \n",
       "3  Recherche et Enseignement (y compris doctorant...   \n",
       "4  Recherche et Enseignement (y compris doctorant...   \n",
       "\n",
       "  Votre poste est-il permanent ?  \\\n",
       "0                            Non   \n",
       "1                            Oui   \n",
       "2                            Non   \n",
       "3                            Oui   \n",
       "4                            Non   \n",
       "\n",
       "  Sur quel site travaillez-vous majoritairement ?  \\\n",
       "0                             Ecole Polytechnique   \n",
       "1                             Ecole Polytechnique   \n",
       "2                             Ecole Polytechnique   \n",
       "3                             Ecole Polytechnique   \n",
       "4                  Ecole Normale Supérieure (ENS)   \n",
       "\n",
       "  Etes-vous impliqué(e) dans le groupe LMD-Climactions ?  \\\n",
       "0                                                Oui       \n",
       "1                                                Non       \n",
       "2                                                Non       \n",
       "3                                                Non       \n",
       "4                                                Non       \n",
       "\n",
       "  Le LMD doit-il définir une stratégie de réduction d'émissions ?  \\\n",
       "0                                                Oui                \n",
       "1                                                Oui                \n",
       "2                                                Oui                \n",
       "3                                                Oui                \n",
       "4                                                Oui                \n",
       "\n",
       "  Comment devons-nous nous situer par rapport à l'objectif national de réduction d'émissions pour l'horizon 2030 (-50% en 2030 par rapport à notre bilan carbone de 2019) ?  \\\n",
       "0                                      Même objectif                                                                                                                          \n",
       "1                                      Même objectif                                                                                                                          \n",
       "2                                     Plus ambitieux                                                                                                                          \n",
       "3                                      Même objectif                                                                                                                          \n",
       "4                                     Plus ambitieux                                                                                                                          \n",
       "\n",
       "     Par quels moyens/modalités ? (choix multiples)   \\\n",
       "0  Sensibilisation / bonnes pratiques / volontari...   \n",
       "1  En se fixant des plafonds d'émissions ou de co...   \n",
       "2  Sensibilisation / bonnes pratiques / volontari...   \n",
       "3   Sensibilisation / bonnes pratiques / volontariat   \n",
       "4  Sensibilisation / bonnes pratiques / volontari...   \n",
       "\n",
       "  Si le LMD se fixe des plafonds d'émissions ou de coût carbone, doivent-ils être :  \\\n",
       "0           collectifs (équipe, site ou laboratoire)                                  \n",
       "1           collectifs (équipe, site ou laboratoire)                                  \n",
       "2           collectifs (équipe, site ou laboratoire)                                  \n",
       "3                                                NaN                                  \n",
       "4           collectifs (équipe, site ou laboratoire)                                  \n",
       "\n",
       "  Avez-vous une remarque sur les moyens d'actions d'une stratégie de réduction des émissions?  \\\n",
       "0                                                NaN                                            \n",
       "1                                                NaN                                            \n",
       "2  Organisation en distanciel pour toutes les con...                                            \n",
       "3                                                NaN                                            \n",
       "4                                                NaN                                            \n",
       "\n",
       "   ...  \\\n",
       "0  ...   \n",
       "1  ...   \n",
       "2  ...   \n",
       "3  ...   \n",
       "4  ...   \n",
       "\n",
       "  Selon vous, est-ce qu'une éventuelle stratégie de réduction doit s'appliquer sur : [Missions (hors campagnes de terrain)]  \\\n",
       "0                                     Ne pas toucher                                                                          \n",
       "1                                    Plutôt d'accord                                                                          \n",
       "2                                           Priorité                                                                          \n",
       "3                                    Plutôt d'accord                                                                          \n",
       "4                                           Priorité                                                                          \n",
       "\n",
       "  Selon vous, est-ce qu'une éventuelle stratégie de réduction doit s'appliquer sur : [Campagnes de terrain]  \\\n",
       "0                                     Ne pas toucher                                                          \n",
       "1                                     Ne pas toucher                                                          \n",
       "2                                    Plutôt d'accord                                                          \n",
       "3                                Plutôt pas d'accord                                                          \n",
       "4                                    Plutôt d'accord                                                          \n",
       "\n",
       "  Selon vous, est-ce qu'une éventuelle stratégie de réduction doit s'appliquer sur : [Calcul et stockage numérique]  \\\n",
       "0                                     Ne pas toucher                                                                  \n",
       "1                                    Plutôt d'accord                                                                  \n",
       "2                                    Plutôt d'accord                                                                  \n",
       "3                                    Plutôt d'accord                                                                  \n",
       "4                                    Plutôt d'accord                                                                  \n",
       "\n",
       "  Selon vous, est-ce qu'une éventuelle stratégie de réduction doit s'appliquer sur : [Achats]  \\\n",
       "0                                Plutôt pas d'accord                                            \n",
       "1                                    Plutôt d'accord                                            \n",
       "2                                    Plutôt d'accord                                            \n",
       "3                                    Plutôt d'accord                                            \n",
       "4                                           Priorité                                            \n",
       "\n",
       "  Selon vous, est-ce qu'une éventuelle stratégie de réduction doit s'appliquer sur : [Bâtiments/chauffage/climatisation]  \\\n",
       "0                                    Plutôt d'accord                                                                       \n",
       "1                                           Priorité                                                                       \n",
       "2                                           Priorité                                                                       \n",
       "3                                           Priorité                                                                       \n",
       "4                                           Priorité                                                                       \n",
       "\n",
       "  Selon vous, est-ce qu'une éventuelle stratégie de réduction doit s'appliquer sur : [Déplacements domicile/travail]  \\\n",
       "0                                    Plutôt d'accord                                                                   \n",
       "1                                Plutôt pas d'accord                                                                   \n",
       "2                                           Priorité                                                                   \n",
       "3                                    Plutôt d'accord                                                                   \n",
       "4                                    Plutôt d'accord                                                                   \n",
       "\n",
       "  Seriez-vous intéressé par un calculateur qui vous permettrait d'estimer et de suivre sur l'année votre empreinte individuelle professionnelle dans ces différents domaines d’émissions ?  \\\n",
       "0                                                Oui                                                                                                                                         \n",
       "1                                                Oui                                                                                                                                         \n",
       "2                                                Oui                                                                                                                                         \n",
       "3                                                Oui                                                                                                                                         \n",
       "4                                                Oui                                                                                                                                         \n",
       "\n",
       "  Pensez-vous que votre activité professionnelle puisse être d'aussi bonne qualité à moindre impact carbone ? (espace commentaire ci-dessous)  \\\n",
       "0                                                Oui                                                                                            \n",
       "1                                                Oui                                                                                            \n",
       "2                                                Oui                                                                                            \n",
       "3                                                Oui                                                                                            \n",
       "4                                                Oui                                                                                            \n",
       "\n",
       "  Avez-vous des remarques sur ce point spécifiquement ?   \\\n",
       "0                                                NaN       \n",
       "1                                                NaN       \n",
       "2                                                NaN       \n",
       "3                                                NaN       \n",
       "4                                                NaN       \n",
       "\n",
       "  Avez-vous des commentaires/questions/suggestions de manière générale sur une stratégie de réduction d'émissions au LMD ?  \n",
       "0                                                NaN                                                                        \n",
       "1                                                NaN                                                                        \n",
       "2                                                NaN                                                                        \n",
       "3                                                NaN                                                                        \n",
       "4                                                NaN                                                                        \n",
       "\n",
       "[5 rows x 21 columns]"
      ]
     },
     "execution_count": 6,
     "metadata": {},
     "output_type": "execute_result"
    }
   ],
   "source": [
    "df.head()"
   ]
  },
  {
   "cell_type": "code",
   "execution_count": 10,
   "metadata": {},
   "outputs": [
    {
     "data": {
      "text/plain": [
       "Recherche et Enseignement (y compris doctorant et post-doc)       0.670886\n",
       "Support à la recherche (Ingénieur / Technicien /Administratif)    0.329114\n",
       "Name: Quel est votre profession ?, dtype: float64"
      ]
     },
     "execution_count": 10,
     "metadata": {},
     "output_type": "execute_result"
    }
   ],
   "source": [
    "df['Quel est votre profession ?'].value_counts(normalize=True)"
   ]
  },
  {
   "cell_type": "code",
   "execution_count": 14,
   "metadata": {},
   "outputs": [
    {
     "data": {
      "text/plain": [
       "<matplotlib.axes._subplots.AxesSubplot at 0x114f3f5c0>"
      ]
     },
     "execution_count": 14,
     "metadata": {},
     "output_type": "execute_result"
    },
    {
     "data": {
      "image/png": "[encoded data removed]",
      "text/plain": [
       "<Figure size 1080x504 with 1 Axes>"
      ]
     },
     "metadata": {
      "needs_background": "light"
     },
     "output_type": "display_data"
    }
   ],
   "source": [
    "%matplotlib inline\n",
    "df['Votre poste est-il permanent ?'].value_counts().plot(kind=\"bar\", figsize=(15,7), color=\"#61d199\")"
   ]
  },
  {
   "cell_type": "code",
   "execution_count": 22,
   "metadata": {},
   "outputs": [
    {
     "data": {
      "text/plain": [
       "(49, 21)"
      ]
     },
     "execution_count": 22,
     "metadata": {},
     "output_type": "execute_result"
    }
   ],
   "source": [
    "said_no = df[df['Votre poste est-il permanent ?'] == 'Oui']\n",
    "said_no.shape"
   ]
  },
  {
   "cell_type": "code",
   "execution_count": 25,
   "metadata": {},
   "outputs": [
    {
     "data": {
      "text/plain": [
       "1     Oui\n",
       "3     Oui\n",
       "6     Oui\n",
       "7     Oui\n",
       "8     Oui\n",
       "10    Oui\n",
       "11    Oui\n",
       "12    Oui\n",
       "18    Oui\n",
       "19    Oui\n",
       "21    Oui\n",
       "25    Oui\n",
       "26    Oui\n",
       "27    Oui\n",
       "28    Oui\n",
       "29    Oui\n",
       "30    Oui\n",
       "31    Oui\n",
       "33    Oui\n",
       "34    Oui\n",
       "36    Oui\n",
       "38    Oui\n",
       "40    Oui\n",
       "41    Oui\n",
       "42    Oui\n",
       "45    Oui\n",
       "46    Oui\n",
       "47    Oui\n",
       "48    Oui\n",
       "49    Oui\n",
       "53    Oui\n",
       "54    Oui\n",
       "56    Oui\n",
       "57    Oui\n",
       "59    Oui\n",
       "61    Oui\n",
       "62    Oui\n",
       "63    Oui\n",
       "64    Oui\n",
       "66    Oui\n",
       "67    Oui\n",
       "68    Oui\n",
       "69    Oui\n",
       "70    Oui\n",
       "71    Oui\n",
       "73    Oui\n",
       "75    Oui\n",
       "76    Oui\n",
       "77    Oui\n",
       "Name: Votre poste est-il permanent ?, dtype: object"
      ]
     },
     "execution_count": 25,
     "metadata": {},
     "output_type": "execute_result"
    }
   ],
   "source": [
    "said_no['Votre poste est-il permanent ?']"
   ]
  },
  {
   "cell_type": "code",
   "execution_count": null,
   "metadata": {},
   "outputs": [],
   "source": []
  }
 ],
 "metadata": {
  "kernelspec": {
   "display_name": "Python 3",
   "language": "python",
   "name": "python3"
  },
  "language_info": {
   "codemirror_mode": {
    "name": "ipython",
    "version": 3
   },
   "file_extension": ".py",
   "mimetype": "text/x-python",
   "name": "python",
   "nbconvert_exporter": "python",
   "pygments_lexer": "ipython3",
   "version": "3.7.3"
  }
 },
 "nbformat": 4,
 "nbformat_minor": 4
}
